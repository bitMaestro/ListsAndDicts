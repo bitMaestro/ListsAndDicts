{
 "cells": [
  {
   "cell_type": "markdown",
   "metadata": {},
   "source": [
    "__List Comprehension__\n",
    "\n",
    "We can use list comprehension to look for 'UU' in our list of words.\n",
    "\n",
    "```python\n",
    "word_list = [elt.strip() for elt in open('sowpods.txt', 'r').readlines9()]\n",
    "\n",
    "[elt for elt in wordlist if 'UU' in elt]\n",
    "```\n",
    "\n",
    "We can also revise our earlier code to run with a list comprehension and search for palindrome words.\n",
    "\n",
    "```python\n",
    "[word for word in word_list if word == word[::-1]]\n",
    "```\n",
    "\n",
    "__List vs Dictionary vs Set__\n",
    "\n",
    "List are great if sorting and ordering matters however its cost is O(n).  The entire list will be traversed.  \n",
    "\n",
    "Dictionaries are hashed and look ups are super fast compared to list.  However order and sorting are not part of what dictionaries provide.  The run time cost is O(1).\n",
    "\n",
    "Sets are similar to dictionaries in that they are hashed.  They are super easy to use if key value pairs are not needed.  O(1).\n",
    "\n",
    "__time( ) Function__\n",
    "\n",
    "Import the time module to generate the length of time your code takes to run.  Place ```start = time.time()``` at the beginning of where you would like to begin the timer and ```end = time.time()``` to end the timer.  Your can then print the results, ```print(\"Time to run code: %.7f\" % (stop - start))```\n"
   ]
  },
  {
   "cell_type": "markdown",
   "metadata": {},
   "source": [
    "__List Exercise__\n",
    "\n",
    "List's are useful when storing a collection of times when order matters."
   ]
  },
  {
   "cell_type": "code",
   "execution_count": 1,
   "metadata": {
    "collapsed": true
   },
   "outputs": [],
   "source": [
    "my_list = ['cherries', 'bananas', 'apples']"
   ]
  },
  {
   "cell_type": "markdown",
   "metadata": {},
   "source": [
    "Items in a list can be accessed using indexing.  Remember, Python is zero based indexing."
   ]
  },
  {
   "cell_type": "code",
   "execution_count": 2,
   "metadata": {},
   "outputs": [
    {
     "data": {
      "text/plain": [
       "'cherries'"
      ]
     },
     "execution_count": 2,
     "metadata": {},
     "output_type": "execute_result"
    }
   ],
   "source": [
    "my_list[0]"
   ]
  },
  {
   "cell_type": "code",
   "execution_count": 3,
   "metadata": {},
   "outputs": [
    {
     "data": {
      "text/plain": [
       "'bananas'"
      ]
     },
     "execution_count": 3,
     "metadata": {},
     "output_type": "execute_result"
    }
   ],
   "source": [
    "my_list[1]"
   ]
  },
  {
   "cell_type": "code",
   "execution_count": 4,
   "metadata": {},
   "outputs": [
    {
     "data": {
      "text/plain": [
       "'apples'"
      ]
     },
     "execution_count": 4,
     "metadata": {},
     "output_type": "execute_result"
    }
   ],
   "source": [
    "my_list[-1]"
   ]
  },
  {
   "cell_type": "markdown",
   "metadata": {},
   "source": [
    "Palindrome\n",
    "\n",
    "We can also reverse a list and just if a word is a palindrome."
   ]
  },
  {
   "cell_type": "code",
   "execution_count": 6,
   "metadata": {},
   "outputs": [
    {
     "data": {
      "text/plain": [
       "['apples', 'bananas', 'cherries']"
      ]
     },
     "execution_count": 6,
     "metadata": {},
     "output_type": "execute_result"
    }
   ],
   "source": [
    "# reverse a list\n",
    "my_list[::-1]"
   ]
  },
  {
   "cell_type": "code",
   "execution_count": 8,
   "metadata": {},
   "outputs": [
    {
     "name": "stdout",
     "output_type": "stream",
     "text": [
      "Is \"a\" a plindrome? True\n"
     ]
    }
   ],
   "source": [
    "# check for palindrome\n",
    "a = 'rotor'\n",
    "b = a[::-1]\n",
    "print('Is \"a\" a plindrome?', a==b)"
   ]
  },
  {
   "cell_type": "markdown",
   "metadata": {},
   "source": [
    "__Dictionary Exercise__\n",
    "\n",
    "Dictionaries are all about key:value relationships.  You cannot have two of the same keys in a dictionary.  "
   ]
  },
  {
   "cell_type": "code",
   "execution_count": 11,
   "metadata": {},
   "outputs": [
    {
     "data": {
      "text/plain": [
       "{'Adam': 'apples', 'Jessica': 'cherries', 'Tom': 'bananas'}"
      ]
     },
     "execution_count": 11,
     "metadata": {},
     "output_type": "execute_result"
    }
   ],
   "source": [
    "# create a dictionary of favorite fruit of friends\n",
    "my_dict = {'Jessica':'cherries', 'Tom':'bananas', 'Adam':'apples'}\n",
    "my_dict"
   ]
  },
  {
   "cell_type": "markdown",
   "metadata": {},
   "source": [
    "Look up based on key."
   ]
  },
  {
   "cell_type": "code",
   "execution_count": 13,
   "metadata": {},
   "outputs": [
    {
     "data": {
      "text/plain": [
       "'cherries'"
      ]
     },
     "execution_count": 13,
     "metadata": {},
     "output_type": "execute_result"
    }
   ],
   "source": [
    "# what is Jessica's favorite fruit\n",
    "my_dict['Jessica']"
   ]
  },
  {
   "cell_type": "code",
   "execution_count": 15,
   "metadata": {},
   "outputs": [
    {
     "data": {
      "text/plain": [
       "{'Adam': 'apples', 'Jessica': 'pear', 'Tom': 'bananas'}"
      ]
     },
     "execution_count": 15,
     "metadata": {},
     "output_type": "execute_result"
    }
   ],
   "source": [
    "# Replacing a value\n",
    "my_dict['Jessica'] = 'pear'\n",
    "my_dict"
   ]
  }
 ],
 "metadata": {
  "kernelspec": {
   "display_name": "Python 3",
   "language": "python",
   "name": "python3"
  },
  "language_info": {
   "codemirror_mode": {
    "name": "ipython",
    "version": 3
   },
   "file_extension": ".py",
   "mimetype": "text/x-python",
   "name": "python",
   "nbconvert_exporter": "python",
   "pygments_lexer": "ipython3",
   "version": "3.6.0"
  }
 },
 "nbformat": 4,
 "nbformat_minor": 2
}
